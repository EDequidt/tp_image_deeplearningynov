{
 "cells": [
  {
   "cell_type": "markdown",
   "metadata": {},
   "source": [
    "Source kaggle dogs vs cats : https://www.kaggle.com/c/dogs-vs-cats\n",
    "Source de téléchargement du dataset : https://www.microsoft.com/en-us/download/details.aspx?id=54765"
   ]
  },
  {
   "cell_type": "code",
   "execution_count": 28,
   "metadata": {},
   "outputs": [
    {
     "name": "stdout",
     "output_type": "stream",
     "text": [
      "done\n"
     ]
    }
   ],
   "source": [
    "import os, shutil\n",
    "\n",
    "#setup des dossiers pour la gestion des données du dataset\n",
    "original_dataset_dir = 'C:/Users/Azelnoo/Documents/GitHub/data/dogsvscats'\n",
    "\n",
    "base_dir = 'C:/Users/Azelnoo/Documents/GitHub/data/small_dogsvscats'\n",
    "if not os.path.exists(base_dir):\n",
    "    os.mkdir(base_dir)\n",
    "\n",
    "train_dir= os.path.join(base_dir, 'train')\n",
    "if not os.path.exists(train_dir):\n",
    "    os.mkdir(train_dir)\n",
    "validation_dir = os.path.join(base_dir, 'validation')\n",
    "if not os.path.exists(validation_dir):\n",
    "    os.mkdir(validation_dir)\n",
    "test_dir = os.path.join(base_dir, 'test')\n",
    "if not os.path.exists(test_dir):\n",
    "    os.mkdir(test_dir)\n",
    "\n",
    "train_cats_dir = os.path.join(train_dir, 'cats')\n",
    "if not os.path.exists(train_cats_dir):\n",
    "    os.mkdir(train_cats_dir)\n",
    "\n",
    "train_dogs_dir = os.path.join(train_dir, 'dogs')\n",
    "if not os.path.exists(train_dogs_dir):\n",
    "    os.mkdir(train_dogs_dir)\n",
    "\n",
    "validation_cats_dir = os.path.join(validation_dir, 'cats')\n",
    "if not os.path.exists(validation_cats_dir):\n",
    "    os.mkdir(validation_cats_dir)\n",
    "\n",
    "validation_dogs_dir = os.path.join(validation_dir, 'dogs')\n",
    "if not os.path.exists(validation_dogs_dir):\n",
    "    os.mkdir(validation_dogs_dir)\n",
    "\n",
    "test_dogs_dir = os.path.join(test_dir, 'cats')\n",
    "if not os.path.exists(test_cats_dir):\n",
    "    os.mkdir(test_cats_dir)\n",
    "\n",
    "validation_dogs_dir = os.path.join(test_dir, 'dogs')\n",
    "if not os.path.exists(test_dogs_dir):\n",
    "    os.mkdir(test_dogs_dir)\n",
    "\n",
    "print(\"done\")"
   ]
  },
  {
   "cell_type": "code",
   "execution_count": 54,
   "metadata": {},
   "outputs": [],
   "source": [
    "# copie des 2000 premières images de chaque animal pour en faire un plus petit pour nos tests, \n",
    "# divisées entre l'entrainement, la validation et les tests\n",
    "\n",
    "#chats\n",
    "fnames = [str(i) + '.jpg' for i in range(1000)]\n",
    "for fname in fnames:\n",
    "    src = original_dataset_dir + '/cat/' + str(i) + '.jpg'\n",
    "    dst = os.path.join(train_cats_dir, fname)\n",
    "    shutil.copyfile(src,dst)\n",
    "    \n",
    "fnames = [str(i) + '.jpg' for i in range(1000,1500)]\n",
    "for fname in fnames:\n",
    "    src = original_dataset_dir + '/cat/' + str(i) + '.jpg'\n",
    "    dst = os.path.join(validation_cats_dir, fname)\n",
    "    shutil.copyfile(src,dst)\n",
    "    \n",
    "fnames = [str(i) + '.jpg' for i in range(1500,2000)]\n",
    "for fname in fnames:\n",
    "    src = original_dataset_dir + '/cat/' + str(i) + '.jpg'\n",
    "    dst = os.path.join(test_cats_dir, fname)\n",
    "    shutil.copyfile(src,dst)\n",
    "\n",
    "#chiens\n",
    "fnames = [str(i) + '.jpg' for i in range(1000)]\n",
    "for fname in fnames:\n",
    "    src = original_dataset_dir + '/dog/' + str(i) + '.jpg'\n",
    "    dst = os.path.join(train_dogs_dir, fname)\n",
    "    shutil.copyfile(src,dst)\n",
    "    \n",
    "fnames = [str(i) + '.jpg' for i in range(1000,1500)]\n",
    "for fname in fnames:\n",
    "    src = original_dataset_dir + '/dog/' + str(i) + '.jpg'\n",
    "    dst = os.path.join(validation_dogs_dir, fname)\n",
    "    shutil.copyfile(src,dst)\n",
    "    \n",
    "fnames = [str(i) + '.jpg' for i in range(1500,2000)]\n",
    "for fname in fnames:\n",
    "    src = original_dataset_dir + '/dog/' + str(i) + '.jpg'\n",
    "    dst = os.path.join(test_dogs_dir, fname)\n",
    "    shutil.copyfile(src,dst)"
   ]
  },
  {
   "cell_type": "code",
   "execution_count": 57,
   "metadata": {},
   "outputs": [
    {
     "name": "stdout",
     "output_type": "stream",
     "text": [
      "total training cat images: 1000\n",
      "total training dog images: 1000\n",
      "total testing cat images: 500\n",
      "total testing dog images: 500\n",
      "total validation cat images: 500\n",
      "total validation dog images: 500\n"
     ]
    }
   ],
   "source": [
    "#Combien d'images nous avons ?\n",
    "print(\"total training cat images:\", len(os.listdir(train_cats_dir)))\n",
    "print(\"total training dog images:\", len(os.listdir(train_dogs_dir)))\n",
    "print(\"total testing cat images:\", len(os.listdir(test_cats_dir)))\n",
    "print(\"total testing dog images:\", len(os.listdir(test_dogs_dir)))\n",
    "print(\"total validation cat images:\", len(os.listdir(validation_cats_dir)))\n",
    "print(\"total validation dog images:\", len(os.listdir(validation_dogs_dir)))"
   ]
  },
  {
   "cell_type": "code",
   "execution_count": 64,
   "metadata": {},
   "outputs": [
    {
     "name": "stdout",
     "output_type": "stream",
     "text": [
      "Model: \"sequential_2\"\n",
      "_________________________________________________________________\n",
      "Layer (type)                 Output Shape              Param #   \n",
      "=================================================================\n",
      "conv2d_5 (Conv2D)            (None, 148, 148, 32)      896       \n",
      "_________________________________________________________________\n",
      "max_pooling2d_5 (MaxPooling2 (None, 74, 74, 32)        0         \n",
      "_________________________________________________________________\n",
      "conv2d_6 (Conv2D)            (None, 72, 72, 64)        18496     \n",
      "_________________________________________________________________\n",
      "max_pooling2d_6 (MaxPooling2 (None, 36, 36, 64)        0         \n",
      "_________________________________________________________________\n",
      "conv2d_7 (Conv2D)            (None, 34, 34, 128)       73856     \n",
      "_________________________________________________________________\n",
      "max_pooling2d_7 (MaxPooling2 (None, 17, 17, 128)       0         \n",
      "_________________________________________________________________\n",
      "conv2d_8 (Conv2D)            (None, 15, 15, 128)       147584    \n",
      "_________________________________________________________________\n",
      "max_pooling2d_8 (MaxPooling2 (None, 7, 7, 128)         0         \n",
      "_________________________________________________________________\n",
      "flatten_2 (Flatten)          (None, 6272)              0         \n",
      "_________________________________________________________________\n",
      "dense_3 (Dense)              (None, 512)               3211776   \n",
      "_________________________________________________________________\n",
      "dense_4 (Dense)              (None, 1)                 513       \n",
      "=================================================================\n",
      "Total params: 3,453,121\n",
      "Trainable params: 3,453,121\n",
      "Non-trainable params: 0\n",
      "_________________________________________________________________\n"
     ]
    }
   ],
   "source": [
    "from keras import layers\n",
    "from keras import models\n",
    "\n",
    "#Définition du modèle\n",
    "\n",
    "model = models.Sequential()\n",
    "model.add(layers.Conv2D(32,(3,3), activation='relu', \n",
    "                        input_shape=(150,150,3)))\n",
    "model.add(layers.MaxPooling2D((2,2)))\n",
    "model.add(layers.Conv2D(64,(3,3), activation='relu'))\n",
    "model.add(layers.MaxPooling2D((2,2)))\n",
    "model.add(layers.Conv2D(128,(3,3), activation='relu'))\n",
    "model.add(layers.MaxPooling2D((2,2)))\n",
    "model.add(layers.Conv2D(128,(3,3), activation='relu'))\n",
    "model.add(layers.MaxPooling2D((2,2)))\n",
    "model.add(layers.Flatten())\n",
    "model.add(layers.Dense(512, activation='relu'))\n",
    "model.add(layers.Dense(1, activation='sigmoid'))\n",
    "\n",
    "model.summary()"
   ]
  },
  {
   "cell_type": "code",
   "execution_count": 66,
   "metadata": {},
   "outputs": [],
   "source": [
    "from keras import optimizers\n",
    "\n",
    "model.compile(loss='binary_crossentropy',\n",
    "             optimizer=optimizers.RMSprop(lr=1e-4),\n",
    "             metrics=['acc'])"
   ]
  },
  {
   "cell_type": "code",
   "execution_count": 67,
   "metadata": {},
   "outputs": [
    {
     "name": "stdout",
     "output_type": "stream",
     "text": [
      "Found 2000 images belonging to 2 classes.\n",
      "Found 1000 images belonging to 2 classes.\n"
     ]
    }
   ],
   "source": [
    "from keras.preprocessing.image import ImageDataGenerator\n",
    "\n",
    "train_datagen = ImageDataGenerator(rescale=1./255)\n",
    "test_datagen = ImageDataGenerator(rescale=1./255)\n",
    "\n",
    "train_generator = train_datagen.flow_from_directory(\n",
    "    train_dir,\n",
    "    target_size=(150,150),\n",
    "    batch_size=20,\n",
    "    class_mode='binary')\n",
    "validation_generator = test_datagen.flow_from_directory(\n",
    "    validation_dir,\n",
    "    target_size=(150,150),\n",
    "    batch_size=20,\n",
    "    class_mode='binary')"
   ]
  },
  {
   "cell_type": "code",
   "execution_count": 68,
   "metadata": {},
   "outputs": [
    {
     "name": "stdout",
     "output_type": "stream",
     "text": [
      "data batch shape: (20, 150, 150, 3)\n",
      "labels batch shape: (20,)\n"
     ]
    }
   ],
   "source": [
    "for data_batch, label_batch in train_generator:\n",
    "    print('data batch shape:', data_batch.shape)\n",
    "    print('labels batch shape:', label_batch.shape)\n",
    "    break"
   ]
  },
  {
   "cell_type": "code",
   "execution_count": 70,
   "metadata": {},
   "outputs": [
    {
     "name": "stdout",
     "output_type": "stream",
     "text": [
      "Epoch 1/30\n",
      "100/100 [==============================] - 28s 285ms/step - loss: 0.6785 - acc: 0.5795 - val_loss: 0.7110 - val_acc: 0.5360\n",
      "Epoch 2/30\n",
      "100/100 [==============================] - 27s 265ms/step - loss: 0.6419 - acc: 0.6270 - val_loss: 0.6758 - val_acc: 0.6420\n",
      "Epoch 3/30\n",
      "100/100 [==============================] - 27s 265ms/step - loss: 0.5991 - acc: 0.6680 - val_loss: 0.5851 - val_acc: 0.6600\n",
      "Epoch 4/30\n",
      "100/100 [==============================] - 27s 270ms/step - loss: 0.5585 - acc: 0.7090 - val_loss: 0.6696 - val_acc: 0.6770\n",
      "Epoch 5/30\n",
      "100/100 [==============================] - 26s 257ms/step - loss: 0.5260 - acc: 0.7370 - val_loss: 0.7241 - val_acc: 0.6820\n",
      "Epoch 6/30\n",
      "100/100 [==============================] - 25s 254ms/step - loss: 0.5078 - acc: 0.7540 - val_loss: 0.4994 - val_acc: 0.7040\n",
      "Epoch 7/30\n",
      "100/100 [==============================] - 25s 254ms/step - loss: 0.4710 - acc: 0.7765 - val_loss: 0.8573 - val_acc: 0.6690\n",
      "Epoch 8/30\n",
      "100/100 [==============================] - 25s 254ms/step - loss: 0.4423 - acc: 0.7945 - val_loss: 0.4984 - val_acc: 0.6970\n",
      "Epoch 9/30\n",
      "100/100 [==============================] - 26s 256ms/step - loss: 0.4204 - acc: 0.8050 - val_loss: 0.8086 - val_acc: 0.7110\n",
      "Epoch 10/30\n",
      "100/100 [==============================] - 26s 256ms/step - loss: 0.3878 - acc: 0.8340 - val_loss: 0.5200 - val_acc: 0.7080\n",
      "Epoch 11/30\n",
      "100/100 [==============================] - 26s 256ms/step - loss: 0.3731 - acc: 0.8400 - val_loss: 0.7594 - val_acc: 0.7150\n",
      "Epoch 12/30\n",
      "100/100 [==============================] - 26s 255ms/step - loss: 0.3398 - acc: 0.8475 - val_loss: 0.7019 - val_acc: 0.7330\n",
      "Epoch 13/30\n",
      "100/100 [==============================] - 26s 257ms/step - loss: 0.3168 - acc: 0.8630 - val_loss: 0.3648 - val_acc: 0.6960\n",
      "Epoch 14/30\n",
      "100/100 [==============================] - 26s 263ms/step - loss: 0.2906 - acc: 0.8840 - val_loss: 0.3853 - val_acc: 0.7100\n",
      "Epoch 15/30\n",
      "100/100 [==============================] - 26s 258ms/step - loss: 0.2720 - acc: 0.8835 - val_loss: 0.6378 - val_acc: 0.7160\n",
      "Epoch 16/30\n",
      "100/100 [==============================] - 26s 260ms/step - loss: 0.2454 - acc: 0.8970 - val_loss: 0.2929 - val_acc: 0.7150\n",
      "Epoch 17/30\n",
      "100/100 [==============================] - 27s 268ms/step - loss: 0.2234 - acc: 0.9175 - val_loss: 0.6801 - val_acc: 0.6950\n",
      "Epoch 18/30\n",
      "100/100 [==============================] - 26s 260ms/step - loss: 0.2044 - acc: 0.9190 - val_loss: 0.6230 - val_acc: 0.7110\n",
      "Epoch 19/30\n",
      "100/100 [==============================] - 26s 260ms/step - loss: 0.1798 - acc: 0.9325 - val_loss: 0.5861 - val_acc: 0.7120\n",
      "Epoch 20/30\n",
      "100/100 [==============================] - 26s 258ms/step - loss: 0.1663 - acc: 0.9385 - val_loss: 0.9552 - val_acc: 0.7000\n",
      "Epoch 21/30\n",
      "100/100 [==============================] - 26s 259ms/step - loss: 0.1440 - acc: 0.9465 - val_loss: 1.0428 - val_acc: 0.7080\n",
      "Epoch 22/30\n",
      "100/100 [==============================] - 26s 258ms/step - loss: 0.1249 - acc: 0.9580 - val_loss: 0.5454 - val_acc: 0.7100\n",
      "Epoch 23/30\n",
      "100/100 [==============================] - 26s 258ms/step - loss: 0.1152 - acc: 0.9630 - val_loss: 0.4224 - val_acc: 0.7200\n",
      "Epoch 24/30\n",
      "100/100 [==============================] - 26s 257ms/step - loss: 0.0960 - acc: 0.9695 - val_loss: 1.5042 - val_acc: 0.7190\n",
      "Epoch 25/30\n",
      "100/100 [==============================] - 26s 260ms/step - loss: 0.0843 - acc: 0.9770 - val_loss: 1.5114 - val_acc: 0.6810\n",
      "Epoch 26/30\n",
      "100/100 [==============================] - 27s 267ms/step - loss: 0.0726 - acc: 0.9795 - val_loss: 0.4882 - val_acc: 0.6890\n",
      "Epoch 27/30\n",
      "100/100 [==============================] - 26s 258ms/step - loss: 0.0617 - acc: 0.9845 - val_loss: 1.4605 - val_acc: 0.6970\n",
      "Epoch 28/30\n",
      "100/100 [==============================] - 26s 257ms/step - loss: 0.0511 - acc: 0.9845 - val_loss: 1.3523 - val_acc: 0.7100\n",
      "Epoch 29/30\n",
      "100/100 [==============================] - 26s 257ms/step - loss: 0.0412 - acc: 0.9915 - val_loss: 0.9851 - val_acc: 0.7050\n",
      "Epoch 30/30\n",
      "100/100 [==============================] - 26s 262ms/step - loss: 0.0362 - acc: 0.9895 - val_loss: 1.7638 - val_acc: 0.7070\n"
     ]
    }
   ],
   "source": [
    "history = model.fit_generator(\n",
    "    train_generator,\n",
    "    verbose=1,\n",
    "    steps_per_epoch=100,\n",
    "    epochs=30,\n",
    "    validation_data=validation_generator,\n",
    "    validation_steps=50)"
   ]
  },
  {
   "cell_type": "code",
   "execution_count": 71,
   "metadata": {},
   "outputs": [],
   "source": [
    "model.save('cats_and_dogs_small_1.h5')"
   ]
  },
  {
   "cell_type": "code",
   "execution_count": 72,
   "metadata": {},
   "outputs": [
    {
     "data": {
      "image/png": "[encoded data removed]",
      "text/plain": [
       "<Figure size 432x288 with 1 Axes>"
      ]
     },
     "metadata": {
      "needs_background": "light"
     },
     "output_type": "display_data"
    },
    {
     "data": {
      "image/png": "[encoded data removed]",
      "text/plain": [
       "<Figure size 432x288 with 1 Axes>"
      ]
     },
     "metadata": {
      "needs_background": "light"
     },
     "output_type": "display_data"
    }
   ],
   "source": [
    "import matplotlib.pyplot as plt\n",
    "\n",
    "acc = history.history['acc']\n",
    "val_acc = history.history['val_acc']\n",
    "loss = history.history['loss']\n",
    "val_loss = history.history['val_loss']\n",
    "\n",
    "epochs = range(1,len(acc) + 1)\n",
    "\n",
    "plt.plot(epochs, acc,'bo', label='training acc')\n",
    "plt.plot(epochs, val_acc,'b', label='validation acc')\n",
    "plt.title('Training and validation accuracy')\n",
    "plt.legend()\n",
    "\n",
    "plt.figure()\n",
    "\n",
    "plt.plot(epochs, loss,'bo', label='training loss')\n",
    "plt.plot(epochs, val_loss,'b', label='validation loss')\n",
    "plt.title('Training and validation loss')\n",
    "plt.legend()\n",
    "\n",
    "plt.show()"
   ]
  }
 ],
 "metadata": {
  "kernelspec": {
   "display_name": "Python 3",
   "language": "python",
   "name": "python3"
  },
  "language_info": {
   "codemirror_mode": {
    "name": "ipython",
    "version": 3
   },
   "file_extension": ".py",
   "mimetype": "text/x-python",
   "name": "python",
   "nbconvert_exporter": "python",
   "pygments_lexer": "ipython3",
   "version": "3.8.1"
  }
 },
 "nbformat": 4,
 "nbformat_minor": 4
}
